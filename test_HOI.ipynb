{
 "cells": [
  {
   "cell_type": "code",
   "execution_count": null,
   "id": "757e6e8f-70b1-4a93-a668-89f99d9292bd",
   "metadata": {
    "tags": []
   },
   "outputs": [],
   "source": [
    "import os, sys\n",
    "from HumanObj_videos_ResNet.lib.config import ConfigContext, parse_args, args\n",
    "from HumanObj_videos_ResNet.predict.image import Image_processor"
   ]
  },
  {
   "cell_type": "code",
   "execution_count": null,
   "id": "bc61c428-55d5-4458-8137-084e75c6a92d",
   "metadata": {},
   "outputs": [],
   "source": [
    "ConfigContext.parsed_args = parse_args([\"--configs_yml=configs/image.yml\",\n",
    "                                        '--inputs=demo/videos/demo_frames', \n",
    "                                        '--output_dir=demo/video_results2', \n",
    "                                        '--renderer=pytorch3d'])"
   ]
  },
  {
   "cell_type": "code",
   "execution_count": null,
   "id": "a38031f4-b84f-4c09-a405-58d481dd1885",
   "metadata": {
    "tags": []
   },
   "outputs": [],
   "source": [
    "# second, run the code\n",
    "processor = Image_processor(args_set=args())\n",
    "inputs = args().inputs\n",
    "results = processor.run(inputs)"
   ]
  },
  {
   "cell_type": "code",
   "execution_count": null,
   "id": "2608e794-0459-4f61-a37a-8f3214867c69",
   "metadata": {},
   "outputs": [],
   "source": [
    "from IPython.display import Image, display\n",
    "import glob\n",
    "for img_path in glob.glob('demo/video_results2/*.jpg'):\n",
    "    display(Image(img_path))"
   ]
  },
  {
   "cell_type": "code",
   "execution_count": null,
   "id": "04e0ecdb-f0a6-429a-be60-3f2128020af3",
   "metadata": {},
   "outputs": [],
   "source": []
  },
  {
   "cell_type": "code",
   "execution_count": null,
   "id": "5586b3b2-02a4-455b-9e50-e57ab7d8e7e0",
   "metadata": {},
   "outputs": [],
   "source": []
  },
  {
   "cell_type": "code",
   "execution_count": null,
   "id": "0566db61-881a-4d47-a9bb-c870ab25c0eb",
   "metadata": {},
   "outputs": [],
   "source": [
    "# optionally, if you want to export the model to ONNX:\n",
    "# torch.onnx.export(model, x, \"faster_rcnn.onnx\", opset_version = 11)"
   ]
  },
  {
   "cell_type": "code",
   "execution_count": 1,
   "id": "9fa920d7-5e98-4ac2-a74a-9b8828a3847b",
   "metadata": {},
   "outputs": [],
   "source": [
    "from torchvision import models as py_models"
   ]
  },
  {
   "cell_type": "code",
   "execution_count": 5,
   "id": "bc90a561-58ef-4864-94d8-11b5b45b9bcd",
   "metadata": {},
   "outputs": [],
   "source": [
    "from HumanObj_videos_ResNet.lib.models.BackboneWithFPN import _resnet_fpn_extractor"
   ]
  },
  {
   "cell_type": "code",
   "execution_count": 6,
   "id": "260a7099-5ae0-48eb-aca0-eb15ef3964b5",
   "metadata": {},
   "outputs": [],
   "source": [
    "backbone = py_models.resnet50(pretrained=False)"
   ]
  },
  {
   "cell_type": "code",
   "execution_count": 7,
   "id": "837bcf50-8c53-4da8-b47d-a67fda3d9b2c",
   "metadata": {},
   "outputs": [
    {
     "ename": "TypeError",
     "evalue": "__init__() got an unexpected keyword argument 'norm_layer'",
     "output_type": "error",
     "traceback": [
      "\u001b[0;31m---------------------------------------------------------------------------\u001b[0m",
      "\u001b[0;31mTypeError\u001b[0m                                 Traceback (most recent call last)",
      "Input \u001b[0;32mIn [7]\u001b[0m, in \u001b[0;36m<cell line: 1>\u001b[0;34m()\u001b[0m\n\u001b[0;32m----> 1\u001b[0m out \u001b[38;5;241m=\u001b[39m \u001b[43m_resnet_fpn_extractor\u001b[49m\u001b[43m(\u001b[49m\u001b[43mbackbone\u001b[49m\u001b[43m,\u001b[49m\u001b[43m \u001b[49m\u001b[38;5;241;43m5\u001b[39;49m\u001b[43m)\u001b[49m\n",
      "File \u001b[0;32m/z/home/mkhoshle/Human_object_transform/HumanObj_videos_ResNet/lib/models/BackboneWithFPN.py:147\u001b[0m, in \u001b[0;36m_resnet_fpn_extractor\u001b[0;34m(backbone, trainable_layers, returned_layers, extra_blocks, norm_layer)\u001b[0m\n\u001b[1;32m    145\u001b[0m in_channels_list \u001b[38;5;241m=\u001b[39m [in_channels_stage2 \u001b[38;5;241m*\u001b[39m \u001b[38;5;241m2\u001b[39m \u001b[38;5;241m*\u001b[39m\u001b[38;5;241m*\u001b[39m (i \u001b[38;5;241m-\u001b[39m \u001b[38;5;241m1\u001b[39m) \u001b[38;5;28;01mfor\u001b[39;00m i \u001b[38;5;129;01min\u001b[39;00m returned_layers]\n\u001b[1;32m    146\u001b[0m out_channels \u001b[38;5;241m=\u001b[39m \u001b[38;5;241m256\u001b[39m\n\u001b[0;32m--> 147\u001b[0m \u001b[38;5;28;01mreturn\u001b[39;00m \u001b[43mBackboneWithFPN\u001b[49m\u001b[43m(\u001b[49m\n\u001b[1;32m    148\u001b[0m \u001b[43m    \u001b[49m\u001b[43mbackbone\u001b[49m\u001b[43m,\u001b[49m\u001b[43m \u001b[49m\u001b[43mreturn_layers\u001b[49m\u001b[43m,\u001b[49m\u001b[43m \u001b[49m\u001b[43min_channels_list\u001b[49m\u001b[43m,\u001b[49m\u001b[43m \u001b[49m\u001b[43mout_channels\u001b[49m\u001b[43m,\u001b[49m\u001b[43m \u001b[49m\u001b[43mextra_blocks\u001b[49m\u001b[38;5;241;43m=\u001b[39;49m\u001b[43mextra_blocks\u001b[49m\u001b[43m,\u001b[49m\u001b[43m \u001b[49m\u001b[43mnorm_layer\u001b[49m\u001b[38;5;241;43m=\u001b[39;49m\u001b[43mnorm_layer\u001b[49m\n\u001b[1;32m    149\u001b[0m \u001b[43m\u001b[49m\u001b[43m)\u001b[49m\n",
      "File \u001b[0;32m/z/home/mkhoshle/Human_object_transform/HumanObj_videos_ResNet/lib/models/BackboneWithFPN.py:46\u001b[0m, in \u001b[0;36mBackboneWithFPN.__init__\u001b[0;34m(self, backbone, return_layers, in_channels_list, out_channels, extra_blocks, norm_layer)\u001b[0m\n\u001b[1;32m     43\u001b[0m     extra_blocks \u001b[38;5;241m=\u001b[39m LastLevelMaxPool()\n\u001b[1;32m     45\u001b[0m \u001b[38;5;28mself\u001b[39m\u001b[38;5;241m.\u001b[39mbody \u001b[38;5;241m=\u001b[39m IntermediateLayerGetter(backbone, return_layers\u001b[38;5;241m=\u001b[39mreturn_layers)\n\u001b[0;32m---> 46\u001b[0m \u001b[38;5;28mself\u001b[39m\u001b[38;5;241m.\u001b[39mfpn \u001b[38;5;241m=\u001b[39m \u001b[43mFeaturePyramidNetwork\u001b[49m\u001b[43m(\u001b[49m\n\u001b[1;32m     47\u001b[0m \u001b[43m    \u001b[49m\u001b[43min_channels_list\u001b[49m\u001b[38;5;241;43m=\u001b[39;49m\u001b[43min_channels_list\u001b[49m\u001b[43m,\u001b[49m\n\u001b[1;32m     48\u001b[0m \u001b[43m    \u001b[49m\u001b[43mout_channels\u001b[49m\u001b[38;5;241;43m=\u001b[39;49m\u001b[43mout_channels\u001b[49m\u001b[43m,\u001b[49m\n\u001b[1;32m     49\u001b[0m \u001b[43m    \u001b[49m\u001b[43mextra_blocks\u001b[49m\u001b[38;5;241;43m=\u001b[39;49m\u001b[43mextra_blocks\u001b[49m\u001b[43m,\u001b[49m\n\u001b[1;32m     50\u001b[0m \u001b[43m    \u001b[49m\u001b[43mnorm_layer\u001b[49m\u001b[38;5;241;43m=\u001b[39;49m\u001b[43mnorm_layer\u001b[49m\u001b[43m,\u001b[49m\n\u001b[1;32m     51\u001b[0m \u001b[43m\u001b[49m\u001b[43m)\u001b[49m\n\u001b[1;32m     52\u001b[0m \u001b[38;5;28mself\u001b[39m\u001b[38;5;241m.\u001b[39mout_channels \u001b[38;5;241m=\u001b[39m out_channels\n",
      "\u001b[0;31mTypeError\u001b[0m: __init__() got an unexpected keyword argument 'norm_layer'"
     ]
    }
   ],
   "source": [
    "out = _resnet_fpn_extractor(backbone, 5)"
   ]
  },
  {
   "cell_type": "code",
   "execution_count": null,
   "id": "e4abebce-cebf-4d09-8b73-a60260759c0a",
   "metadata": {},
   "outputs": [],
   "source": []
  },
  {
   "cell_type": "code",
   "execution_count": null,
   "id": "5b15c62e-579b-40e2-849e-98e5f0f9ab9e",
   "metadata": {},
   "outputs": [],
   "source": []
  },
  {
   "cell_type": "code",
   "execution_count": null,
   "id": "7f5b6a14-6f38-4268-83de-750f53a52e2f",
   "metadata": {},
   "outputs": [],
   "source": []
  },
  {
   "cell_type": "code",
   "execution_count": null,
   "id": "f1e062a9-666b-4eba-92b6-fc436ab7ec69",
   "metadata": {},
   "outputs": [],
   "source": [
    "_resnet(Bottleneck, [3, 4, 6, 3], weights, progress, **kwargs)\n",
    "\n"
   ]
  }
 ],
 "metadata": {
  "kernelspec": {
   "display_name": "Python 3 (ipykernel)",
   "language": "python",
   "name": "python3"
  },
  "language_info": {
   "codemirror_mode": {
    "name": "ipython",
    "version": 3
   },
   "file_extension": ".py",
   "mimetype": "text/x-python",
   "name": "python",
   "nbconvert_exporter": "python",
   "pygments_lexer": "ipython3",
   "version": "3.8.13"
  }
 },
 "nbformat": 4,
 "nbformat_minor": 5
}
